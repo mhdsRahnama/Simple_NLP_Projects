{
 "cells": [
  {
   "cell_type": "code",
   "execution_count": 1,
   "id": "ba30487d",
   "metadata": {},
   "outputs": [],
   "source": [
    "import pandas\n",
    "import hazm\n",
    "import re\n",
    "from sklearn.model_selection import train_test_split \n",
    "from sklearn.feature_extraction.text import TfidfVectorizer\n",
    "from sklearn import svm\n",
    "from sklearn.multiclass import OneVsRestClassifier\n",
    "from sklearn.metrics import classification_report"
   ]
  },
  {
   "cell_type": "markdown",
   "id": "ca978b12",
   "metadata": {},
   "source": [
    "## Load dataset"
   ]
  },
  {
   "cell_type": "code",
   "execution_count": 2,
   "id": "219438db",
   "metadata": {},
   "outputs": [],
   "source": [
    "data=pandas.read_csv(\"taghche.csv\")"
   ]
  },
  {
   "cell_type": "code",
   "execution_count": 3,
   "id": "d6bc56d3",
   "metadata": {},
   "outputs": [
    {
     "data": {
      "text/html": [
       "<div>\n",
       "<style scoped>\n",
       "    .dataframe tbody tr th:only-of-type {\n",
       "        vertical-align: middle;\n",
       "    }\n",
       "\n",
       "    .dataframe tbody tr th {\n",
       "        vertical-align: top;\n",
       "    }\n",
       "\n",
       "    .dataframe thead th {\n",
       "        text-align: right;\n",
       "    }\n",
       "</style>\n",
       "<table border=\"1\" class=\"dataframe\">\n",
       "  <thead>\n",
       "    <tr style=\"text-align: right;\">\n",
       "      <th></th>\n",
       "      <th>date</th>\n",
       "      <th>comment</th>\n",
       "      <th>bookname</th>\n",
       "      <th>rate</th>\n",
       "      <th>bookID</th>\n",
       "      <th>like</th>\n",
       "    </tr>\n",
       "  </thead>\n",
       "  <tbody>\n",
       "    <tr>\n",
       "      <th>0</th>\n",
       "      <td>1395/11/14</td>\n",
       "      <td>اسم کتاب   No one writes to the Colonel\\nترجمش...</td>\n",
       "      <td>سرهنگ کسی ندارد برایش نامه بنویسد</td>\n",
       "      <td>0.0</td>\n",
       "      <td>3.0</td>\n",
       "      <td>2.0</td>\n",
       "    </tr>\n",
       "    <tr>\n",
       "      <th>1</th>\n",
       "      <td>1395/11/14</td>\n",
       "      <td>طاقچه عزیز،نام کتاب\"کسی به سرهنگ نامه نمینویسد...</td>\n",
       "      <td>سرهنگ کسی ندارد برایش نامه بنویسد</td>\n",
       "      <td>5.0</td>\n",
       "      <td>3.0</td>\n",
       "      <td>2.0</td>\n",
       "    </tr>\n",
       "    <tr>\n",
       "      <th>2</th>\n",
       "      <td>1394/06/06</td>\n",
       "      <td>بنظرم این اثر مارکز خیلی از صد سال تنهایی که ب...</td>\n",
       "      <td>سرهنگ کسی ندارد برایش نامه بنویسد</td>\n",
       "      <td>5.0</td>\n",
       "      <td>3.0</td>\n",
       "      <td>0.0</td>\n",
       "    </tr>\n",
       "    <tr>\n",
       "      <th>3</th>\n",
       "      <td>1393/09/02</td>\n",
       "      <td>به نظر کتاب خوبی میومد اما من از ترجمش خوشم نی...</td>\n",
       "      <td>سرهنگ کسی ندارد برایش نامه بنویسد</td>\n",
       "      <td>2.0</td>\n",
       "      <td>3.0</td>\n",
       "      <td>0.0</td>\n",
       "    </tr>\n",
       "    <tr>\n",
       "      <th>4</th>\n",
       "      <td>1393/06/29</td>\n",
       "      <td>کتاب خوبی است</td>\n",
       "      <td>سرهنگ کسی ندارد برایش نامه بنویسد</td>\n",
       "      <td>3.0</td>\n",
       "      <td>3.0</td>\n",
       "      <td>0.0</td>\n",
       "    </tr>\n",
       "  </tbody>\n",
       "</table>\n",
       "</div>"
      ],
      "text/plain": [
       "         date                                            comment  \\\n",
       "0  1395/11/14  اسم کتاب   No one writes to the Colonel\\nترجمش...   \n",
       "1  1395/11/14  طاقچه عزیز،نام کتاب\"کسی به سرهنگ نامه نمینویسد...   \n",
       "2  1394/06/06  بنظرم این اثر مارکز خیلی از صد سال تنهایی که ب...   \n",
       "3  1393/09/02  به نظر کتاب خوبی میومد اما من از ترجمش خوشم نی...   \n",
       "4  1393/06/29                                      کتاب خوبی است   \n",
       "\n",
       "                            bookname  rate  bookID  like  \n",
       "0  سرهنگ کسی ندارد برایش نامه بنویسد   0.0     3.0   2.0  \n",
       "1  سرهنگ کسی ندارد برایش نامه بنویسد   5.0     3.0   2.0  \n",
       "2  سرهنگ کسی ندارد برایش نامه بنویسد   5.0     3.0   0.0  \n",
       "3  سرهنگ کسی ندارد برایش نامه بنویسد   2.0     3.0   0.0  \n",
       "4  سرهنگ کسی ندارد برایش نامه بنویسد   3.0     3.0   0.0  "
      ]
     },
     "execution_count": 3,
     "metadata": {},
     "output_type": "execute_result"
    }
   ],
   "source": [
    "data.head()"
   ]
  },
  {
   "cell_type": "code",
   "execution_count": 4,
   "id": "4b569665",
   "metadata": {},
   "outputs": [],
   "source": [
    "# If the rate is more than 3, then the label is positive.\n",
    "\n",
    "temp=[]\n",
    "for i in range(len(data)):\n",
    "    text=data.loc[i,\"comment\"]\n",
    "    rate=data.loc[i,\"rate\"]\n",
    "    \n",
    "    if not pandas.isna(text) and not pandas.isna(rate):\n",
    "        if rate>3:\n",
    "            label=1 # positive\n",
    "        else:\n",
    "            label=0 # negative\n",
    "            \n",
    "        temp.append([text,label])\n",
    "              \n",
    "\n",
    "dataset= pandas.DataFrame(temp,columns=[\"comment\",\"label\"])"
   ]
  },
  {
   "cell_type": "code",
   "execution_count": 5,
   "id": "1730614d",
   "metadata": {},
   "outputs": [
    {
     "data": {
      "text/html": [
       "<div>\n",
       "<style scoped>\n",
       "    .dataframe tbody tr th:only-of-type {\n",
       "        vertical-align: middle;\n",
       "    }\n",
       "\n",
       "    .dataframe tbody tr th {\n",
       "        vertical-align: top;\n",
       "    }\n",
       "\n",
       "    .dataframe thead th {\n",
       "        text-align: right;\n",
       "    }\n",
       "</style>\n",
       "<table border=\"1\" class=\"dataframe\">\n",
       "  <thead>\n",
       "    <tr style=\"text-align: right;\">\n",
       "      <th></th>\n",
       "      <th>comment</th>\n",
       "      <th>label</th>\n",
       "    </tr>\n",
       "  </thead>\n",
       "  <tbody>\n",
       "    <tr>\n",
       "      <th>0</th>\n",
       "      <td>اسم کتاب   No one writes to the Colonel\\nترجمش...</td>\n",
       "      <td>0</td>\n",
       "    </tr>\n",
       "    <tr>\n",
       "      <th>1</th>\n",
       "      <td>طاقچه عزیز،نام کتاب\"کسی به سرهنگ نامه نمینویسد...</td>\n",
       "      <td>1</td>\n",
       "    </tr>\n",
       "    <tr>\n",
       "      <th>2</th>\n",
       "      <td>بنظرم این اثر مارکز خیلی از صد سال تنهایی که ب...</td>\n",
       "      <td>1</td>\n",
       "    </tr>\n",
       "    <tr>\n",
       "      <th>3</th>\n",
       "      <td>به نظر کتاب خوبی میومد اما من از ترجمش خوشم نی...</td>\n",
       "      <td>0</td>\n",
       "    </tr>\n",
       "    <tr>\n",
       "      <th>4</th>\n",
       "      <td>کتاب خوبی است</td>\n",
       "      <td>0</td>\n",
       "    </tr>\n",
       "  </tbody>\n",
       "</table>\n",
       "</div>"
      ],
      "text/plain": [
       "                                             comment  label\n",
       "0  اسم کتاب   No one writes to the Colonel\\nترجمش...      0\n",
       "1  طاقچه عزیز،نام کتاب\"کسی به سرهنگ نامه نمینویسد...      1\n",
       "2  بنظرم این اثر مارکز خیلی از صد سال تنهایی که ب...      1\n",
       "3  به نظر کتاب خوبی میومد اما من از ترجمش خوشم نی...      0\n",
       "4                                      کتاب خوبی است      0"
      ]
     },
     "execution_count": 5,
     "metadata": {},
     "output_type": "execute_result"
    }
   ],
   "source": [
    "dataset.head()"
   ]
  },
  {
   "cell_type": "markdown",
   "id": "a4320a38",
   "metadata": {},
   "source": [
    "## Pre-Processing\n",
    "\n",
    "1. Emoji removing\n",
    "2. Normalizing\n",
    "3. Half-Space correction\n",
    "4. English character removing\n"
   ]
  },
  {
   "cell_type": "code",
   "execution_count": 6,
   "id": "8463a589",
   "metadata": {},
   "outputs": [],
   "source": [
    "normalizer=hazm.Normalizer()"
   ]
  },
  {
   "cell_type": "code",
   "execution_count": 7,
   "id": "6db1708d",
   "metadata": {},
   "outputs": [],
   "source": [
    "def EmojiRemoving(text):\n",
    "\n",
    "    emoj = re.compile(\"[\"\n",
    "                      u\"\\U0001F600-\\U0001F64F\"  # emoticons\n",
    "                      u\"\\U0001F300-\\U0001F5FF\"  # symbols & pictographs\n",
    "                      u\"\\U0001F680-\\U0001F6FF\"  # transport & map symbols\n",
    "                      u\"\\U0001F1E0-\\U0001F1FF\"  # flags (iOS)\n",
    "                      u\"\\U00002500-\\U00002BEF\"  # chinese char\n",
    "                      u\"\\U00002702-\\U000027B0\"\n",
    "                      u\"\\U00002702-\\U000027B0\"\n",
    "                      u\"\\U000024C2-\\U0001F251\"\n",
    "                      u\"\\U0001f926-\\U0001f937\"\n",
    "                      u\"\\U00010000-\\U0010ffff\"\n",
    "                      u\"\\u2640-\\u2642\"\n",
    "                      u\"\\u2600-\\u2B55\"\n",
    "                      u\"\\u200d\"\n",
    "                      u\"\\u23cf\"\n",
    "                      u\"\\u23e9\"\n",
    "                      u\"\\u231a\"\n",
    "                      u\"\\ufe0f\"  # dingbats\n",
    "                      u\"\\u3030\"\n",
    "                      \"]+\", re.UNICODE)\n",
    "    text= re.sub(emoj, '', text)\n",
    "\n",
    "    return text\n",
    "\n",
    "\n",
    "def hSpace_correction(text):\n",
    "    \n",
    "    text = text.replace(\"\\u200c\", \" \")\n",
    "    \n",
    "    return text\n",
    "\n",
    "def english_removing(text):\n",
    "    \n",
    "    maintext = re.sub(r'[a-zA-Z]', '', text)\n",
    "    \n",
    "    return maintext\n"
   ]
  },
  {
   "cell_type": "code",
   "execution_count": 8,
   "id": "66e14c1a",
   "metadata": {},
   "outputs": [
    {
     "name": "stdout",
     "output_type": "stream",
     "text": [
      "راستش شاید نظر من از نظر خوانندگان عادلانه نباشه 🤭 ولی چون من کتاب های زیادی در این زمینه خوندم، این کتاب برام تازگی نداشت. به نظرم این مدل کتاب ها حالت مسکن داره بر روی روان ما. هیچ چیز مثل تجربه ها نمیتونه به ما یاد بده قدر خودمون رو بدونیم.\n",
      "در کل برای من چیز wow و تازه ای نبود. 🤭\n"
     ]
    }
   ],
   "source": [
    "#example \n",
    "# Before pre-processing\n",
    "print(dataset.loc[57196,\"comment\"])"
   ]
  },
  {
   "cell_type": "code",
   "execution_count": 9,
   "id": "5e65b1dd",
   "metadata": {},
   "outputs": [],
   "source": [
    "dataset[\"comment\"]=dataset[\"comment\"].apply(EmojiRemoving) "
   ]
  },
  {
   "cell_type": "code",
   "execution_count": 10,
   "id": "61080f22",
   "metadata": {},
   "outputs": [
    {
     "name": "stdout",
     "output_type": "stream",
     "text": [
      "راستش شاید نظر من از نظر خوانندگان عادلانه نباشه  ولی چون من کتاب های زیادی در این زمینه خوندم، این کتاب برام تازگی نداشت. به نظرم این مدل کتاب ها حالت مسکن داره بر روی روان ما. هیچ چیز مثل تجربه ها نمیتونه به ما یاد بده قدر خودمون رو بدونیم.\n",
      "در کل برای من چیز wow و تازه ای نبود. \n"
     ]
    }
   ],
   "source": [
    "#example\n",
    "print(dataset.loc[57196,\"comment\"])"
   ]
  },
  {
   "cell_type": "code",
   "execution_count": 11,
   "id": "12310bb1",
   "metadata": {},
   "outputs": [],
   "source": [
    "dataset[\"comment\"]=dataset[\"comment\"].apply(normalizer.normalize)"
   ]
  },
  {
   "cell_type": "code",
   "execution_count": 12,
   "id": "53fff9db",
   "metadata": {},
   "outputs": [
    {
     "name": "stdout",
     "output_type": "stream",
     "text": [
      "راستش شاید نظر من از نظر خوانندگان عادلانه نباشه ولی چون من کتاب‌های زیادی در این زمینه خوندم، این کتاب برام تازگی نداشت. به نظرم این مدل کتاب‌ها حالت مسکن داره بر روی روان ما. هیچ چیز مثل تجربه‌ها نمیتونه به ما یاد بده قدر خودمون رو بدونیم. \n",
      "در کل برای من چیز wow و تازه‌ای نبود. \n"
     ]
    }
   ],
   "source": [
    "#example\n",
    "print(dataset.loc[57196,\"comment\"])"
   ]
  },
  {
   "cell_type": "code",
   "execution_count": 13,
   "id": "ff3f98d0",
   "metadata": {},
   "outputs": [],
   "source": [
    "dataset[\"comment\"]=dataset[\"comment\"].apply(hSpace_correction)"
   ]
  },
  {
   "cell_type": "code",
   "execution_count": 14,
   "id": "260ea9de",
   "metadata": {},
   "outputs": [
    {
     "name": "stdout",
     "output_type": "stream",
     "text": [
      "راستش شاید نظر من از نظر خوانندگان عادلانه نباشه ولی چون من کتاب های زیادی در این زمینه خوندم، این کتاب برام تازگی نداشت. به نظرم این مدل کتاب ها حالت مسکن داره بر روی روان ما. هیچ چیز مثل تجربه ها نمیتونه به ما یاد بده قدر خودمون رو بدونیم. \n",
      "در کل برای من چیز wow و تازه ای نبود. \n"
     ]
    }
   ],
   "source": [
    "#example\n",
    "print(dataset.loc[57196,\"comment\"])"
   ]
  },
  {
   "cell_type": "code",
   "execution_count": 15,
   "id": "19a63199",
   "metadata": {},
   "outputs": [],
   "source": [
    "dataset[\"comment\"]=dataset[\"comment\"].apply(english_removing)"
   ]
  },
  {
   "cell_type": "code",
   "execution_count": 16,
   "id": "b04d4ae8",
   "metadata": {},
   "outputs": [
    {
     "name": "stdout",
     "output_type": "stream",
     "text": [
      "راستش شاید نظر من از نظر خوانندگان عادلانه نباشه ولی چون من کتاب های زیادی در این زمینه خوندم، این کتاب برام تازگی نداشت. به نظرم این مدل کتاب ها حالت مسکن داره بر روی روان ما. هیچ چیز مثل تجربه ها نمیتونه به ما یاد بده قدر خودمون رو بدونیم. \n",
      "در کل برای من چیز  و تازه ای نبود. \n"
     ]
    }
   ],
   "source": [
    "#example\n",
    "print(dataset.loc[57196,\"comment\"])"
   ]
  },
  {
   "cell_type": "markdown",
   "id": "0af4ccfc",
   "metadata": {},
   "source": [
    "## Vectorizing"
   ]
  },
  {
   "cell_type": "code",
   "execution_count": 19,
   "id": "aa06cc66",
   "metadata": {},
   "outputs": [],
   "source": [
    "X=list(dataset[\"comment\"])\n",
    "Y=list(dataset[\"label\"])"
   ]
  },
  {
   "cell_type": "code",
   "execution_count": 24,
   "id": "93890a09",
   "metadata": {},
   "outputs": [],
   "source": [
    "# Split train and test subset.\n",
    "\n",
    "train, test, y_train, y_test = train_test_split(X, Y, test_size=0.2)"
   ]
  },
  {
   "cell_type": "code",
   "execution_count": 21,
   "id": "7e873b1c",
   "metadata": {},
   "outputs": [],
   "source": [
    "with open('stopwords.txt') as f:\n",
    "       sw = [re.sub(r\"[\\u200c-\\u200f]\",\" \",line.rstrip()) for line in f]"
   ]
  },
  {
   "cell_type": "code",
   "execution_count": 22,
   "id": "cb07adb5",
   "metadata": {},
   "outputs": [
    {
     "data": {
      "text/plain": [
       "['آنچنان',\n",
       " 'آنچنان که',\n",
       " 'اونجور',\n",
       " 'اونجوری',\n",
       " 'اونجوری که',\n",
       " 'آنچه',\n",
       " 'آنکه',\n",
       " 'آنگاه',\n",
       " 'آن ها',\n",
       " 'آهان']"
      ]
     },
     "execution_count": 22,
     "metadata": {},
     "output_type": "execute_result"
    }
   ],
   "source": [
    "# Example of stop words\n",
    "\n",
    "sw[50:60]"
   ]
  },
  {
   "cell_type": "code",
   "execution_count": 26,
   "id": "049e177d",
   "metadata": {},
   "outputs": [],
   "source": [
    "vectorizer = TfidfVectorizer(stop_words=sw)"
   ]
  },
  {
   "cell_type": "code",
   "execution_count": 27,
   "id": "31645f87",
   "metadata": {},
   "outputs": [
    {
     "name": "stderr",
     "output_type": "stream",
     "text": [
      "/home/rahnama/mohadese/lib/python3.8/site-packages/sklearn/feature_extraction/text.py:396: UserWarning: Your stop_words may be inconsistent with your preprocessing. Tokenizing the stop words generated tokens ['آسانی', 'آسیب', 'آینده', 'اثر', 'احیانا', 'اخیرا', 'ازاین', 'اسلامی', 'اطلاعند', 'الاسف', 'البت', 'الظاهر', 'بااین', 'بازی', 'باوجودی', 'برآن', 'برنامه', 'بسته', 'بطوری', 'بفهمی', 'تازگی', 'تحریم', 'تدریج', 'ترتیب', 'تردید', 'ترند', 'تصریحا', 'تفاوتند', 'تند', 'توؤما', 'تول', 'تک', 'تی', 'ثالثا', 'ثانی', 'جمع', 'جمله', 'جنس', 'جوری', 'حاشیه', 'حسابی', 'حکما', 'خارج', 'خدا', 'خسته', 'خوانم', 'خوانید', 'خوبی', 'خودبه', 'خودی', 'داند', 'دراین', 'درحالی', 'درشتی', 'درصورتی', 'درعین', 'درپی', 'دسته', 'دلخواه', 'دنبال', 'دیوانه', 'ذاتا', 'ذلک', 'راجع', 'رسد', 'رضای', 'رغم', 'رود', 'روزه', 'روشنی', 'زده', 'زودی', 'ساده', 'سادگی', 'سازهاست', 'سالم', 'ساله', 'ست', 'سرعت', 'سمت', 'سه', 'سهوا', 'سیاه', 'شاأالله', 'شدت', 'صریحا', 'صندوق', 'ضد', 'ضمنا', 'طبق', 'طوری', 'عل', 'علاقه', 'علاوه', 'علنا', 'علی', 'عملی', 'عینا', 'قاعدتا', 'قانونا', 'قد', 'قصد', 'لا', 'لزوما', 'مامان', 'مجموع', 'محض', 'مخصوصا', 'مد', 'مذهبی', 'مراتب', 'مشترکا', 'مع', 'مند', 'مون', 'مکررا', 'ناراضی', 'ناچار', 'نفهمی', 'نهایت', 'نوعا', 'نیازمندانه', 'هاست', 'هام', 'هدف', 'هرحال', 'هق', 'وابسته', 'واقع', 'وجه', 'وحشت', 'وسط', 'وضوح', 'پاره', 'پاعین', 'پایین', 'پذیرند', 'پشتوانه', 'پهن', 'چاله', 'چشم', 'کرات', 'کما', 'کنان', 'کنایه', 'گرمی', 'گویان', 'یواش'] not in stop_words.\n",
      "  warnings.warn(\n"
     ]
    }
   ],
   "source": [
    "X_train = vectorizer.fit_transform(train)"
   ]
  },
  {
   "cell_type": "code",
   "execution_count": 28,
   "id": "45d40be5",
   "metadata": {},
   "outputs": [],
   "source": [
    "X_test = vectorizer.transform(test)"
   ]
  },
  {
   "cell_type": "markdown",
   "id": "be5c81d8",
   "metadata": {},
   "source": [
    "## Classification"
   ]
  },
  {
   "cell_type": "code",
   "execution_count": 31,
   "id": "fee8f126",
   "metadata": {},
   "outputs": [],
   "source": [
    "clf_SVC_basic = svm.SVC(kernel=\"rbf\")\n",
    "clf_SVC_OneVsRest = OneVsRestClassifier(estimator=clf_SVC_basic)"
   ]
  },
  {
   "cell_type": "code",
   "execution_count": 32,
   "id": "2e2470cb",
   "metadata": {},
   "outputs": [],
   "source": [
    "clf_SVC = clf_SVC_OneVsRest.fit(X_train,y_train)"
   ]
  },
  {
   "cell_type": "markdown",
   "id": "e09e6585",
   "metadata": {},
   "source": [
    "## Evaluation"
   ]
  },
  {
   "cell_type": "code",
   "execution_count": 33,
   "id": "90075abe",
   "metadata": {},
   "outputs": [],
   "source": [
    "y_pred_SVC = clf_SVC.predict(X_test)"
   ]
  },
  {
   "cell_type": "code",
   "execution_count": 46,
   "id": "56a1b87d",
   "metadata": {},
   "outputs": [
    {
     "name": "stdout",
     "output_type": "stream",
     "text": [
      "              precision    recall  f1-score   support\n",
      "\n",
      "    Negative       0.74      0.39      0.51      4238\n",
      "    Positive       0.78      0.94      0.85      9720\n",
      "\n",
      "    accuracy                           0.77     13958\n",
      "   macro avg       0.76      0.66      0.68     13958\n",
      "weighted avg       0.77      0.77      0.75     13958\n",
      "\n"
     ]
    }
   ],
   "source": [
    "print(classification_report(y_test, y_pred_SVC,target_names=[\"Negative\",\"Positive\"]))"
   ]
  },
  {
   "cell_type": "code",
   "execution_count": 41,
   "id": "a4bb3e08",
   "metadata": {},
   "outputs": [
    {
     "name": "stderr",
     "output_type": "stream",
     "text": [
      "/home/rahnama/mohadese/lib/python3.8/site-packages/sklearn/utils/deprecation.py:87: FutureWarning: Function plot_confusion_matrix is deprecated; Function `plot_confusion_matrix` is deprecated in 1.0 and will be removed in 1.2. Use one of the class methods: ConfusionMatrixDisplay.from_predictions or ConfusionMatrixDisplay.from_estimator.\n",
      "  warnings.warn(msg, category=FutureWarning)\n"
     ]
    },
    {
     "data": {
      "image/png": "[encoded data removed]",
      "text/plain": [
       "<Figure size 432x288 with 2 Axes>"
      ]
     },
     "metadata": {
      "needs_background": "light"
     },
     "output_type": "display_data"
    }
   ],
   "source": [
    "from sklearn.metrics import plot_confusion_matrix\n",
    "import matplotlib.pyplot as plt\n",
    "plot_confusion_matrix(clf_SVC,X_test,y_test)\n",
    "plt.show()"
   ]
  }
 ],
 "metadata": {
  "kernelspec": {
   "display_name": "Python 3 (ipykernel)",
   "language": "python",
   "name": "python3"
  },
  "language_info": {
   "codemirror_mode": {
    "name": "ipython",
    "version": 3
   },
   "file_extension": ".py",
   "mimetype": "text/x-python",
   "name": "python",
   "nbconvert_exporter": "python",
   "pygments_lexer": "ipython3",
   "version": "3.8.10"
  }
 },
 "nbformat": 4,
 "nbformat_minor": 5
}
